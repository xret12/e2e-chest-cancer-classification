{
 "cells": [
  {
   "cell_type": "code",
   "execution_count": 18,
   "metadata": {},
   "outputs": [
    {
     "data": {
      "text/plain": [
       "(2,)"
      ]
     },
     "execution_count": 18,
     "metadata": {},
     "output_type": "execute_result"
    }
   ],
   "source": [
    "import numpy as np\n",
    "x = np.array([1, 2])\n",
    "\n",
    "x.shape"
   ]
  },
  {
   "cell_type": "code",
   "execution_count": 19,
   "metadata": {},
   "outputs": [
    {
     "name": "stderr",
     "output_type": "stream",
     "text": [
      "<>:1: SyntaxWarning: list indices must be integers or slices, not list; perhaps you missed a comma?\n",
      "<>:1: SyntaxWarning: list indices must be integers or slices, not list; perhaps you missed a comma?\n",
      "C:\\Users\\RETRETA\\AppData\\Local\\Temp\\ipykernel_11952\\2498699001.py:1: SyntaxWarning: list indices must be integers or slices, not list; perhaps you missed a comma?\n",
      "  np.argmax([[0.8361757]]\n",
      "C:\\Users\\RETRETA\\AppData\\Local\\Temp\\ipykernel_11952\\2498699001.py:1: SyntaxWarning: list indices must be integers or slices, not list; perhaps you missed a comma?\n",
      "  np.argmax([[0.8361757]]\n",
      "C:\\Users\\RETRETA\\AppData\\Local\\Temp\\ipykernel_11952\\2498699001.py:1: SyntaxWarning: list indices must be integers or slices, not list; perhaps you missed a comma?\n",
      "  np.argmax([[0.8361757]]\n",
      "C:\\Users\\RETRETA\\AppData\\Local\\Temp\\ipykernel_11952\\2498699001.py:1: SyntaxWarning: list indices must be integers or slices, not list; perhaps you missed a comma?\n",
      "  np.argmax([[0.8361757]]\n",
      "C:\\Users\\RETRETA\\AppData\\Local\\Temp\\ipykernel_11952\\2498699001.py:1: SyntaxWarning: list indices must be integers or slices, not list; perhaps you missed a comma?\n",
      "  np.argmax([[0.8361757]]\n",
      "C:\\Users\\RETRETA\\AppData\\Local\\Temp\\ipykernel_11952\\2498699001.py:1: SyntaxWarning: list indices must be integers or slices, not list; perhaps you missed a comma?\n",
      "  np.argmax([[0.8361757]]\n",
      "C:\\Users\\RETRETA\\AppData\\Local\\Temp\\ipykernel_11952\\2498699001.py:1: SyntaxWarning: list indices must be integers or slices, not list; perhaps you missed a comma?\n",
      "  np.argmax([[0.8361757]]\n"
     ]
    },
    {
     "ename": "TypeError",
     "evalue": "list indices must be integers or slices, not list",
     "output_type": "error",
     "traceback": [
      "\u001b[1;31m---------------------------------------------------------------------------\u001b[0m",
      "\u001b[1;31mTypeError\u001b[0m                                 Traceback (most recent call last)",
      "Cell \u001b[1;32mIn[19], line 1\u001b[0m\n\u001b[1;32m----> 1\u001b[0m np\u001b[38;5;241m.\u001b[39margmax(\u001b[43m[\u001b[49m\u001b[43m[\u001b[49m\u001b[38;5;241;43m0.8361757\u001b[39;49m\u001b[43m]\u001b[49m\u001b[43m]\u001b[49m\n\u001b[0;32m      2\u001b[0m \u001b[43m[\u001b[49m\u001b[43m[\u001b[49m\u001b[38;5;241;43m0.26765466\u001b[39;49m\u001b[43m]\u001b[49m\u001b[43m]\u001b[49m\n\u001b[0;32m      3\u001b[0m [[\u001b[38;5;241m0.2722953\u001b[39m]]\n\u001b[0;32m      4\u001b[0m [[\u001b[38;5;241m0.81938094\u001b[39m]]\n\u001b[0;32m      5\u001b[0m [[\u001b[38;5;241m0.24995388\u001b[39m]]\n\u001b[0;32m      6\u001b[0m [[\u001b[38;5;241m0.45974937\u001b[39m]])\n",
      "\u001b[1;31mTypeError\u001b[0m: list indices must be integers or slices, not list"
     ]
    }
   ],
   "source": [
    "np.argmax([[0.8361757]]\n",
    "[[0.26765466]]\n",
    "[[0.2722953]]\n",
    "[[0.81938094]]\n",
    "[[0.24995388]]\n",
    "[[0.45974937]])"
   ]
  }
 ],
 "metadata": {
  "kernelspec": {
   "display_name": "chest-cancer-env",
   "language": "python",
   "name": "python3"
  },
  "language_info": {
   "codemirror_mode": {
    "name": "ipython",
    "version": 3
   },
   "file_extension": ".py",
   "mimetype": "text/x-python",
   "name": "python",
   "nbconvert_exporter": "python",
   "pygments_lexer": "ipython3",
   "version": "3.8.19"
  }
 },
 "nbformat": 4,
 "nbformat_minor": 2
}
